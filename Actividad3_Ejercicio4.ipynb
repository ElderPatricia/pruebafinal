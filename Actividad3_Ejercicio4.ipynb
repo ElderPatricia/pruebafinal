{
  "nbformat": 4,
  "nbformat_minor": 0,
  "metadata": {
    "colab": {
      "provenance": []
    },
    "kernelspec": {
      "name": "python3",
      "display_name": "Python 3"
    },
    "language_info": {
      "name": "python"
    }
  },
  "cells": [
    {
      "cell_type": "markdown",
      "source": [
        "Ejercicio 4: Diseñar una función que determine si dos palabras tienen coincidencia en sus últimas K letras, donde K es un parámetro determinado dentro del programa. Escribir un programa que pida dos o más palabras separadas por coma e indique si cada par de palabras riman o no. El programa debe usar la función diseñada. Si coinciden las tres últimas letras debe indicar “riman”. Si coinciden sólo las dos últimas debe indicar “riman poco” y si no indicar “no riman”"
      ],
      "metadata": {
        "id": "yFWBNn5PNqlD"
      }
    },
    {
      "cell_type": "code",
      "source": [
        "def riman(pal1,pal2):\n",
        "  \n",
        "  Ult3pal1 = pal1[-3:] \n",
        "  ult3pal2 = pal2[-3:]\n",
        "  ult2pal1 = pal1[-2:]\n",
        "  ult2pal2 = pal2[-2:]\n",
        "\n",
        "  if Ult3pal1 == ult3pal2:\n",
        "    print(f\"Las palabras {pal1} y {pal2} riman\")\n",
        "  elif ult2pal1 == ult2pal2:\n",
        "     print(f\"Las palabras {pal1} y {pal2} riman poco\")\n",
        "  else:\n",
        "    print(f\"Las palabras {pal1} y {pal2} no riman\")\n",
        "pal1 = input(\"Ingrese la primer palabra: \")\n",
        "pal2 = input(\"Ingrese la segunda palabra: \")\n",
        "riman(pal1,pal2)"
      ],
      "metadata": {
        "id": "CV8SD6LmNvt4"
      },
      "execution_count": null,
      "outputs": []
    }
  ]
}