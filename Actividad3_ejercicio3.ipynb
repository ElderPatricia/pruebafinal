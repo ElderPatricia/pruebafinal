{
  "nbformat": 4,
  "nbformat_minor": 0,
  "metadata": {
    "colab": {
      "provenance": []
    },
    "kernelspec": {
      "name": "python3",
      "display_name": "Python 3"
    },
    "language_info": {
      "name": "python"
    }
  },
  "cells": [
    {
      "cell_type": "markdown",
      "source": [
        "Ejercicio 3: Diseñar un programa que simule tirar dos dados y luego muestre los valores que salieron. Imprimir un mensaje que ganó si la suma de los mismos es igual a 7, caso contrario mostrar mensaje que perdió. Debe tener en cuenta que los valores aleatorios posibles al lanzar un dado van de 1 a 6."
      ],
      "metadata": {
        "id": "8KXf1EovGaZz"
      }
    },
    {
      "cell_type": "code",
      "source": [
        "import random as rd\n",
        "sum=0\n",
        "band= input(\"Desea iniciar la tirada?(si/no)\")\n",
        "while band==\"si\":\n",
        "  dado1=rd.randint(1,6) \n",
        "  dado2= rd.randint(1,6) \n",
        "  suma=dado1+dado2\n",
        "  if suma == 7:\n",
        "    print(\"Felicidades! Ud Ganó\")\n",
        "  else:\n",
        "    print(\"Lo siento, perdió\")\n",
        "  print( f\"los valores de la tirada son: {dado1} y {dado2}, la suma es {suma}\")\n",
        "  band=input(\"Desea continuar la tirada?(si/no)\")  "
      ],
      "metadata": {
        "colab": {
          "base_uri": "https://localhost:8080/"
        },
        "id": "tUEBt_8_GgnB",
        "outputId": "f4ea2c66-f452-4f9e-ca2e-0136660e5f01"
      },
      "execution_count": null,
      "outputs": [
        {
          "output_type": "stream",
          "name": "stdout",
          "text": [
            "Desea iniciar la tirada?(si/no)si\n",
            "Lo siento, perdió\n",
            "los valores de la tirada son: 4 y 6, la suma es 10\n",
            "Desea continuar la tirada?(si/no)si\n",
            "Lo siento, perdió\n",
            "los valores de la tirada son: 6 y 5, la suma es 11\n",
            "Desea continuar la tirada?(si/no)si\n",
            "Lo siento, perdió\n",
            "los valores de la tirada son: 3 y 3, la suma es 6\n",
            "Desea continuar la tirada?(si/no)si\n",
            "Lo siento, perdió\n",
            "los valores de la tirada son: 1 y 3, la suma es 4\n",
            "Desea continuar la tirada?(si/no)si\n",
            "Lo siento, perdió\n",
            "los valores de la tirada son: 5 y 5, la suma es 10\n",
            "Desea continuar la tirada?(si/no)si\n",
            "Felicidades! Ud Ganó\n",
            "los valores de la tirada son: 1 y 6, la suma es 7\n"
          ]
        }
      ]
    }
  ]
}